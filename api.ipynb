{
 "cells": [
  {
   "cell_type": "code",
   "execution_count": null,
   "metadata": {},
   "outputs": [],
   "source": [
    "import os\n",
    "from dotenv import load_dotenv\n",
    "from openai import OpenAI\n",
    "from notion_client import Client\n",
    "from time import sleep\n"
   ]
  },
  {
   "cell_type": "code",
   "execution_count": null,
   "metadata": {},
   "outputs": [],
   "source": [
    "# Load environment variables from .env file\n",
    "load_dotenv()\n",
    "\n",
    "# Access the secrets\n",
    "secret_key = os.getenv('SECRET_KEY')\n",
    "database_url = os.getenv('DATABASE_URL')\n",
    "\n",
    "print(f'Secret Key: {secret_key}')\n",
    "print(f'Database URL: {database_url}')\n",
    "\n",
    "notion = Client(auth=os.environ[\"NOTION_API_TOKEN\"])\n"
   ]
  },
  {
   "cell_type": "code",
   "execution_count": null,
   "metadata": {},
   "outputs": [],
   "source": [
    "def get_job_desc(page_id):\n",
    "    blocks = notion.blocks.children.list(page_id)\n",
    "    lines = []\n",
    "    for b in blocks[\"results\"]:\n",
    "        # Type can be e.g. 'paragraph' or 'bulleted_list_item'\n",
    "        b_type = b[\"type\"]\n",
    "        # If line is not empty\n",
    "        if len(b[b_type][\"rich_text\"]) != 0:\n",
    "            lines.append(b[b_type][\"rich_text\"][0][\"text\"][\"content\"])\n",
    "    return \"\\n\".join(lines)\n",
    "\n",
    "def get_gpt_query(job_desc):\n",
    "    # Import prompt examples\n",
    "    with open(\"gpt-prompt-examples.txt\", \"r\") as f:\n",
    "        job_desc_examples = f.read()\n",
    "\n",
    "    gpt_query = f\"\"\"\n",
    "    Write 1 paragraph of max 100 words for the CV Description, keeping the EXACT SAME structure as the examples.\n",
    "    Mention the underlined keywords, incuding tasks (e.g. \"Apache Spark\", \"Streamlit\") and technologies (e.g. \"Microsoft Azure\") ONLY if they were mentioned in the new job desciption.\n",
    "\n",
    "    ### NEW Job description.\n",
    "    {job_desc}\n",
    "\n",
    "    {job_desc_examples}\n",
    "    \"\"\"\n",
    "    return gpt_query\n",
    "    \n",
    "\n",
    "# Example usage\n",
    "job_desc = get_job_desc(\"4469a74a8198491a854c6cbb8728979b\")\n",
    "gpt_query = get_gpt_query(job_desc)\n",
    "\n",
    "# Test the query on ChatGPT\n",
    "with open(\"gpt-prompt-output.txt\", \"w\") as f:\n",
    "    f.write(gpt_query)"
   ]
  },
  {
   "cell_type": "markdown",
   "metadata": {},
   "source": [
    "# Query OpenAI API"
   ]
  },
  {
   "cell_type": "code",
   "execution_count": null,
   "metadata": {},
   "outputs": [],
   "source": [
    "client = OpenAI()\n",
    "\n",
    "def get_gpt_response(GPT_QUERY):\n",
    "  completion = client.chat.completions.create(\n",
    "    model=\"gpt-4o\",\n",
    "    temperature=0,\n",
    "    messages=[\n",
    "      {\"role\": \"system\", \"content\": \"You are an expert in writing CV, specialized in writing CVs for with only very technical words.\"},\n",
    "      {\"role\": \"user\", \"content\": GPT_QUERY}\n",
    "    ]\n",
    "  )\n",
    "\n",
    "  print(\"Query cost:\", completion.usage)\n",
    "\n",
    "  gpt_response = completion.choices[0].message.content\n",
    "  return gpt_response"
   ]
  },
  {
   "cell_type": "markdown",
   "metadata": {},
   "source": [
    "## Write description in Notion field"
   ]
  },
  {
   "cell_type": "markdown",
   "metadata": {},
   "source": [
    "## Unofficial library"
   ]
  },
  {
   "cell_type": "code",
   "execution_count": null,
   "metadata": {},
   "outputs": [],
   "source": [
    "# Problem: I can't get the values from a database, only from a page + the callback does\n",
    "# not work.\n",
    "\n",
    "# from notionpy.notion.client import NotionClient\n",
    "\n",
    "# # Obtain the `token_v2` value by inspecting your browser cookies on a logged-in (non-guest) session on Notion.so\n",
    "# # client = NotionClient(token_v2=os.environ[\"NOTION_CLIENT_TOKEN\"])\n",
    "# client = NotionClient(token_v2=\"v02%3Auser_token_or_cookies%3AIuGhcIACfb6pVlM8VUq7-9X-l1X-Iw9OIY8TUsZ52hQtYu3moRx4P3USsEufcMz4uoJO-HqFiLn9B1g5uZqxX8wFSgWDKdlsW0Tw4eKk-5zKy5SsGqetGGrSfDzxLfseHg7f\")\n",
    "\n",
    "# # Replace this URL with the URL of the page you want to edit\n",
    "# # page = client.get_block(\"https://www.notion.so/marcodifrancesco/Data-Intern-Analyst-4469a74a8198491a854c6cbb8728979b\")\n",
    "# page = client.get_block(\"https://www.notion.so/marcodifrancesco/8993d6d12560487fbfa2ebd3e93962ad?v=f10b880e1c0f472981705bfbbcb066b6\")\n",
    "\n",
    "# print(\"The title is:\", page.title)\n",
    "\n",
    "# # Get new job description\n",
    "# # Exclude empty lines\n",
    "# job_desc = \"\\n\".join([p.title for p in page.children if p.title != \"\"])\n",
    "# job_desc\n",
    "\n",
    "\n",
    "# while True:\n",
    "#     from time import sleep\n",
    "#     sleep(1)\n",
    "#     page.refresh()"
   ]
  },
  {
   "cell_type": "markdown",
   "metadata": {},
   "source": [
    "## Official library"
   ]
  },
  {
   "cell_type": "code",
   "execution_count": null,
   "metadata": {},
   "outputs": [],
   "source": [
    "def get_db(db_id):\n",
    "    db = notion.databases.query(\n",
    "        **{\n",
    "            \"database_id\": db_id,\n",
    "            # \"filter\": {\n",
    "            #     \"property\": \"Landmark\",\n",
    "            #     \"rich_text\": {\n",
    "            #         \"contains\": \"Bridge\",\n",
    "            #     },\n",
    "            # },\n",
    "        }\n",
    "    )\n",
    "    return db\n",
    "\n",
    "def set_to_processing(page_id):\n",
    "    update_properties = {\n",
    "        \"properties\": {\n",
    "            \"_Req Desc Prog\": {\n",
    "                \"rich_text\": [\n",
    "                    {\n",
    "                        \"type\": \"text\",\n",
    "                        \"text\": {\n",
    "                            \"content\": \"🟡 Processing...\"\n",
    "                        }\n",
    "                    }\n",
    "                ]\n",
    "            }\n",
    "        }\n",
    "    }\n",
    "\n",
    "    response = notion.pages.update(\n",
    "        page_id=page_id,\n",
    "        **update_properties\n",
    "    )\n",
    "\n",
    "def set_descr_in_notion(page_id, gpt_response):\n",
    "    # Set Description, and change status to \"Done\"\n",
    "    update_properties = {\n",
    "        \"properties\": {\n",
    "            \"CV Description\": {\n",
    "                \"rich_text\": [\n",
    "                    {\n",
    "                        \"type\": \"text\",\n",
    "                        \"text\": {\n",
    "                            \"content\": gpt_response\n",
    "                        }\n",
    "                    }\n",
    "                ]\n",
    "            },\n",
    "            \"_Req Desc Prog\": {\n",
    "                \"rich_text\": [\n",
    "                    {\n",
    "                        \"type\": \"text\",\n",
    "                        \"text\": {\n",
    "                            \"content\": \"🟢 Done. Click button 'Req Desc' to request again.\"\n",
    "                        }\n",
    "                    }\n",
    "                ]\n",
    "            },\n",
    "        }\n",
    "    }\n",
    "\n",
    "    response = notion.pages.update(\n",
    "        page_id=page_id,\n",
    "        **update_properties\n",
    "    )\n",
    "\n",
    "def update_db(db):\n",
    "    for job_post in db[\"results\"]:\n",
    "        change_req = job_post[\"properties\"][\"_Req Desc Prog\"][\"rich_text\"]    \n",
    "        if len(change_req) != 0:\n",
    "            assert len(change_req) == 1, \"Unhandled case\"\n",
    "            if change_req[0][\"text\"][\"content\"] == \"🔵 Requested…\":\n",
    "                set_to_processing(job_post[\"id\"])\n",
    "                job_desc = get_job_desc(job_post[\"id\"])\n",
    "                gpt_query = get_gpt_query(job_desc)\n",
    "                gpt_response = get_gpt_response(gpt_query)\n",
    "                set_descr_in_notion(job_post[\"id\"], gpt_response)\n",
    "                print(f\"Updated {job_post[\"id\"]}\")"
   ]
  },
  {
   "cell_type": "code",
   "execution_count": null,
   "metadata": {},
   "outputs": [],
   "source": [
    "def main():\n",
    "    while True:\n",
    "        db = get_db(\"8993d6d12560487fbfa2ebd3e93962ad\")\n",
    "        update_db(db)\n",
    "        sleep(2)\n",
    "        print(\"DB checked\")\n",
    "\n",
    "\n",
    "main()"
   ]
  }
 ],
 "metadata": {
  "kernelspec": {
   "display_name": ".venv",
   "language": "python",
   "name": "python3"
  },
  "language_info": {
   "codemirror_mode": {
    "name": "ipython",
    "version": 3
   },
   "file_extension": ".py",
   "mimetype": "text/x-python",
   "name": "python",
   "nbconvert_exporter": "python",
   "pygments_lexer": "ipython3"
  }
 },
 "nbformat": 4,
 "nbformat_minor": 2
}
